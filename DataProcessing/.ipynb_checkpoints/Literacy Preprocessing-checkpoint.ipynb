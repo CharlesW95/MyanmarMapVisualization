{
 "cells": [
  {
   "cell_type": "code",
   "execution_count": 1,
   "metadata": {
    "collapsed": true
   },
   "outputs": [],
   "source": [
    "import numpy as np\n",
    "import pandas as pd\n",
    "import matplotlib.pyplot as plt"
   ]
  },
  {
   "cell_type": "code",
   "execution_count": 2,
   "metadata": {
    "collapsed": false
   },
   "outputs": [
    {
     "data": {
      "text/html": [
       "<div>\n",
       "<table border=\"1\" class=\"dataframe\">\n",
       "  <thead>\n",
       "    <tr style=\"text-align: right;\">\n",
       "      <th></th>\n",
       "      <th>pcode_st</th>\n",
       "      <th>name_st</th>\n",
       "      <th>pcode_dt</th>\n",
       "      <th>name_dt</th>\n",
       "      <th>pcode_ts</th>\n",
       "      <th>name_ts</th>\n",
       "      <th>lit_15ab_t</th>\n",
       "      <th>lit_rate_15ab_t</th>\n",
       "      <th>illit_15ab_t</th>\n",
       "      <th>pop_15ab_m</th>\n",
       "      <th>...</th>\n",
       "      <th>lit_rate_15ab_t_r</th>\n",
       "      <th>illit_15ab_t_r</th>\n",
       "      <th>pop_15ab_m_r</th>\n",
       "      <th>lit_15ab_m_r</th>\n",
       "      <th>lit_rate_15ab_m_r</th>\n",
       "      <th>illit_15ab_m_r</th>\n",
       "      <th>pop_15ab_f_r</th>\n",
       "      <th>lit_15ab_f_r</th>\n",
       "      <th>lit_rate_15ab_f_r</th>\n",
       "      <th>illit_15ab_f_r</th>\n",
       "    </tr>\n",
       "  </thead>\n",
       "  <tbody>\n",
       "    <tr>\n",
       "      <th>0</th>\n",
       "      <td>MMR001</td>\n",
       "      <td>Kachin</td>\n",
       "      <td>MMR001D001</td>\n",
       "      <td>Myitkyina</td>\n",
       "      <td>MMR001001</td>\n",
       "      <td>Myitkyina</td>\n",
       "      <td>184827</td>\n",
       "      <td>94.2</td>\n",
       "      <td>11344</td>\n",
       "      <td>90050</td>\n",
       "      <td>...</td>\n",
       "      <td>90.4</td>\n",
       "      <td>3810.0</td>\n",
       "      <td>19018.0</td>\n",
       "      <td>17835.0</td>\n",
       "      <td>93.8</td>\n",
       "      <td>1183.0</td>\n",
       "      <td>20737.0</td>\n",
       "      <td>18110.0</td>\n",
       "      <td>87.3</td>\n",
       "      <td>2627.0</td>\n",
       "    </tr>\n",
       "    <tr>\n",
       "      <th>1</th>\n",
       "      <td>MMR001</td>\n",
       "      <td>Kachin</td>\n",
       "      <td>MMR001D001</td>\n",
       "      <td>Myitkyina</td>\n",
       "      <td>MMR001002</td>\n",
       "      <td>Waingmaw</td>\n",
       "      <td>62427</td>\n",
       "      <td>81.9</td>\n",
       "      <td>13777</td>\n",
       "      <td>36512</td>\n",
       "      <td>...</td>\n",
       "      <td>80.6</td>\n",
       "      <td>11489.0</td>\n",
       "      <td>28397.0</td>\n",
       "      <td>24071.0</td>\n",
       "      <td>84.8</td>\n",
       "      <td>4326.0</td>\n",
       "      <td>30897.0</td>\n",
       "      <td>23734.0</td>\n",
       "      <td>76.8</td>\n",
       "      <td>7163.0</td>\n",
       "    </tr>\n",
       "    <tr>\n",
       "      <th>2</th>\n",
       "      <td>MMR001</td>\n",
       "      <td>Kachin</td>\n",
       "      <td>MMR001D001</td>\n",
       "      <td>Myitkyina</td>\n",
       "      <td>MMR001003</td>\n",
       "      <td>Injangyang</td>\n",
       "      <td>688</td>\n",
       "      <td>80.8</td>\n",
       "      <td>163</td>\n",
       "      <td>407</td>\n",
       "      <td>...</td>\n",
       "      <td>81.2</td>\n",
       "      <td>121.0</td>\n",
       "      <td>301.0</td>\n",
       "      <td>260.0</td>\n",
       "      <td>86.4</td>\n",
       "      <td>41.0</td>\n",
       "      <td>341.0</td>\n",
       "      <td>261.0</td>\n",
       "      <td>76.5</td>\n",
       "      <td>80.0</td>\n",
       "    </tr>\n",
       "    <tr>\n",
       "      <th>3</th>\n",
       "      <td>MMR001</td>\n",
       "      <td>Kachin</td>\n",
       "      <td>MMR001D001</td>\n",
       "      <td>Myitkyina</td>\n",
       "      <td>MMR001004</td>\n",
       "      <td>Tanai</td>\n",
       "      <td>27501</td>\n",
       "      <td>85.8</td>\n",
       "      <td>4544</td>\n",
       "      <td>16570</td>\n",
       "      <td>...</td>\n",
       "      <td>81.9</td>\n",
       "      <td>2348.0</td>\n",
       "      <td>6725.0</td>\n",
       "      <td>5863.0</td>\n",
       "      <td>87.2</td>\n",
       "      <td>862.0</td>\n",
       "      <td>6274.0</td>\n",
       "      <td>4788.0</td>\n",
       "      <td>76.3</td>\n",
       "      <td>1486.0</td>\n",
       "    </tr>\n",
       "    <tr>\n",
       "      <th>4</th>\n",
       "      <td>MMR001</td>\n",
       "      <td>Kachin</td>\n",
       "      <td>MMR001D001</td>\n",
       "      <td>Myitkyina</td>\n",
       "      <td>MMR001005</td>\n",
       "      <td>Chipwi</td>\n",
       "      <td>6607</td>\n",
       "      <td>60.6</td>\n",
       "      <td>4298</td>\n",
       "      <td>5446</td>\n",
       "      <td>...</td>\n",
       "      <td>55.7</td>\n",
       "      <td>4098.0</td>\n",
       "      <td>4661.0</td>\n",
       "      <td>2949.0</td>\n",
       "      <td>63.3</td>\n",
       "      <td>1712.0</td>\n",
       "      <td>4581.0</td>\n",
       "      <td>2195.0</td>\n",
       "      <td>47.9</td>\n",
       "      <td>2386.0</td>\n",
       "    </tr>\n",
       "    <tr>\n",
       "      <th>5</th>\n",
       "      <td>MMR001</td>\n",
       "      <td>Kachin</td>\n",
       "      <td>MMR001D001</td>\n",
       "      <td>Myitkyina</td>\n",
       "      <td>MMR001006</td>\n",
       "      <td>Tsawlaw</td>\n",
       "      <td>2666</td>\n",
       "      <td>72.8</td>\n",
       "      <td>998</td>\n",
       "      <td>1892</td>\n",
       "      <td>...</td>\n",
       "      <td>72.1</td>\n",
       "      <td>967.0</td>\n",
       "      <td>1797.0</td>\n",
       "      <td>1381.0</td>\n",
       "      <td>76.9</td>\n",
       "      <td>416.0</td>\n",
       "      <td>1675.0</td>\n",
       "      <td>1124.0</td>\n",
       "      <td>67.1</td>\n",
       "      <td>551.0</td>\n",
       "    </tr>\n",
       "    <tr>\n",
       "      <th>6</th>\n",
       "      <td>MMR001</td>\n",
       "      <td>Kachin</td>\n",
       "      <td>MMR001D002</td>\n",
       "      <td>Mohnyin</td>\n",
       "      <td>MMR001007</td>\n",
       "      <td>Mohnyin</td>\n",
       "      <td>126016</td>\n",
       "      <td>95.6</td>\n",
       "      <td>5783</td>\n",
       "      <td>58925</td>\n",
       "      <td>...</td>\n",
       "      <td>95.7</td>\n",
       "      <td>4039.0</td>\n",
       "      <td>42610.0</td>\n",
       "      <td>41628.0</td>\n",
       "      <td>97.7</td>\n",
       "      <td>982.0</td>\n",
       "      <td>51554.0</td>\n",
       "      <td>48497.0</td>\n",
       "      <td>94.1</td>\n",
       "      <td>3057.0</td>\n",
       "    </tr>\n",
       "    <tr>\n",
       "      <th>7</th>\n",
       "      <td>MMR001</td>\n",
       "      <td>Kachin</td>\n",
       "      <td>MMR001D002</td>\n",
       "      <td>Mohnyin</td>\n",
       "      <td>MMR001008</td>\n",
       "      <td>Mogaung</td>\n",
       "      <td>78874</td>\n",
       "      <td>93.4</td>\n",
       "      <td>5615</td>\n",
       "      <td>37809</td>\n",
       "      <td>...</td>\n",
       "      <td>92.9</td>\n",
       "      <td>4806.0</td>\n",
       "      <td>30676.0</td>\n",
       "      <td>29235.0</td>\n",
       "      <td>95.3</td>\n",
       "      <td>1441.0</td>\n",
       "      <td>37225.0</td>\n",
       "      <td>33860.0</td>\n",
       "      <td>91.0</td>\n",
       "      <td>3365.0</td>\n",
       "    </tr>\n",
       "    <tr>\n",
       "      <th>8</th>\n",
       "      <td>MMR001</td>\n",
       "      <td>Kachin</td>\n",
       "      <td>MMR001D002</td>\n",
       "      <td>Mohnyin</td>\n",
       "      <td>MMR001009</td>\n",
       "      <td>Hpakant</td>\n",
       "      <td>110307</td>\n",
       "      <td>94.4</td>\n",
       "      <td>6579</td>\n",
       "      <td>63120</td>\n",
       "      <td>...</td>\n",
       "      <td>93.9</td>\n",
       "      <td>5504.0</td>\n",
       "      <td>47898.0</td>\n",
       "      <td>45804.0</td>\n",
       "      <td>95.6</td>\n",
       "      <td>2094.0</td>\n",
       "      <td>41892.0</td>\n",
       "      <td>38482.0</td>\n",
       "      <td>91.9</td>\n",
       "      <td>3410.0</td>\n",
       "    </tr>\n",
       "    <tr>\n",
       "      <th>9</th>\n",
       "      <td>MMR001</td>\n",
       "      <td>Kachin</td>\n",
       "      <td>MMR001D003</td>\n",
       "      <td>Bhamo</td>\n",
       "      <td>MMR001010</td>\n",
       "      <td>Bhamo</td>\n",
       "      <td>77447</td>\n",
       "      <td>94.7</td>\n",
       "      <td>4299</td>\n",
       "      <td>37787</td>\n",
       "      <td>...</td>\n",
       "      <td>93.2</td>\n",
       "      <td>3241.0</td>\n",
       "      <td>22276.0</td>\n",
       "      <td>21314.0</td>\n",
       "      <td>95.7</td>\n",
       "      <td>962.0</td>\n",
       "      <td>25143.0</td>\n",
       "      <td>22864.0</td>\n",
       "      <td>90.9</td>\n",
       "      <td>2279.0</td>\n",
       "    </tr>\n",
       "  </tbody>\n",
       "</table>\n",
       "<p>10 rows × 41 columns</p>\n",
       "</div>"
      ],
      "text/plain": [
       "  pcode_st name_st    pcode_dt    name_dt   pcode_ts     name_ts  lit_15ab_t  \\\n",
       "0   MMR001  Kachin  MMR001D001  Myitkyina  MMR001001   Myitkyina      184827   \n",
       "1   MMR001  Kachin  MMR001D001  Myitkyina  MMR001002    Waingmaw       62427   \n",
       "2   MMR001  Kachin  MMR001D001  Myitkyina  MMR001003  Injangyang         688   \n",
       "3   MMR001  Kachin  MMR001D001  Myitkyina  MMR001004       Tanai       27501   \n",
       "4   MMR001  Kachin  MMR001D001  Myitkyina  MMR001005      Chipwi        6607   \n",
       "5   MMR001  Kachin  MMR001D001  Myitkyina  MMR001006     Tsawlaw        2666   \n",
       "6   MMR001  Kachin  MMR001D002    Mohnyin  MMR001007     Mohnyin      126016   \n",
       "7   MMR001  Kachin  MMR001D002    Mohnyin  MMR001008     Mogaung       78874   \n",
       "8   MMR001  Kachin  MMR001D002    Mohnyin  MMR001009     Hpakant      110307   \n",
       "9   MMR001  Kachin  MMR001D003      Bhamo  MMR001010       Bhamo       77447   \n",
       "\n",
       "   lit_rate_15ab_t  illit_15ab_t  pop_15ab_m       ...        \\\n",
       "0             94.2         11344       90050       ...         \n",
       "1             81.9         13777       36512       ...         \n",
       "2             80.8           163         407       ...         \n",
       "3             85.8          4544       16570       ...         \n",
       "4             60.6          4298        5446       ...         \n",
       "5             72.8           998        1892       ...         \n",
       "6             95.6          5783       58925       ...         \n",
       "7             93.4          5615       37809       ...         \n",
       "8             94.4          6579       63120       ...         \n",
       "9             94.7          4299       37787       ...         \n",
       "\n",
       "   lit_rate_15ab_t_r  illit_15ab_t_r  pop_15ab_m_r  lit_15ab_m_r  \\\n",
       "0               90.4          3810.0       19018.0       17835.0   \n",
       "1               80.6         11489.0       28397.0       24071.0   \n",
       "2               81.2           121.0         301.0         260.0   \n",
       "3               81.9          2348.0        6725.0        5863.0   \n",
       "4               55.7          4098.0        4661.0        2949.0   \n",
       "5               72.1           967.0        1797.0        1381.0   \n",
       "6               95.7          4039.0       42610.0       41628.0   \n",
       "7               92.9          4806.0       30676.0       29235.0   \n",
       "8               93.9          5504.0       47898.0       45804.0   \n",
       "9               93.2          3241.0       22276.0       21314.0   \n",
       "\n",
       "   lit_rate_15ab_m_r  illit_15ab_m_r  pop_15ab_f_r  lit_15ab_f_r  \\\n",
       "0               93.8          1183.0       20737.0       18110.0   \n",
       "1               84.8          4326.0       30897.0       23734.0   \n",
       "2               86.4            41.0         341.0         261.0   \n",
       "3               87.2           862.0        6274.0        4788.0   \n",
       "4               63.3          1712.0        4581.0        2195.0   \n",
       "5               76.9           416.0        1675.0        1124.0   \n",
       "6               97.7           982.0       51554.0       48497.0   \n",
       "7               95.3          1441.0       37225.0       33860.0   \n",
       "8               95.6          2094.0       41892.0       38482.0   \n",
       "9               95.7           962.0       25143.0       22864.0   \n",
       "\n",
       "   lit_rate_15ab_f_r  illit_15ab_f_r  \n",
       "0               87.3          2627.0  \n",
       "1               76.8          7163.0  \n",
       "2               76.5            80.0  \n",
       "3               76.3          1486.0  \n",
       "4               47.9          2386.0  \n",
       "5               67.1           551.0  \n",
       "6               94.1          3057.0  \n",
       "7               91.0          3365.0  \n",
       "8               91.9          3410.0  \n",
       "9               90.9          2279.0  \n",
       "\n",
       "[10 rows x 41 columns]"
      ]
     },
     "execution_count": 2,
     "metadata": {},
     "output_type": "execute_result"
    }
   ],
   "source": [
    "data = pd.read_csv(\"literacy_myanmar.csv\")\n",
    "data.head(10)"
   ]
  },
  {
   "cell_type": "code",
   "execution_count": 4,
   "metadata": {
    "collapsed": false
   },
   "outputs": [
    {
     "data": {
      "text/plain": [
       "Index([u'pcode_st', u'name_st', u'pcode_dt', u'name_dt', u'pcode_ts',\n",
       "       u'name_ts', u'lit_15ab_t', u'lit_rate_15ab_t', u'illit_15ab_t',\n",
       "       u'pop_15ab_m', u'lit_15ab_m', u'lit_rate_15ab_m', u'illit_15ab_m',\n",
       "       u'pop_15ab_f', u'lit_15ab_f', u'lit_rate_15ab_f', u'illit_15ab_f',\n",
       "       u'pop_15ab_t_u', u'lit_15ab_t_u', u'lit_rate_15ab_t_u',\n",
       "       u'illit_15ab_t_u', u'pop_15ab_m_u', u'lit_15ab_m_u',\n",
       "       u'lit_rate_15ab_m_u', u'illit_15ab_m_u', u'pop_15ab_f_u',\n",
       "       u'lit_15ab_f_u', u'lit_rate_15ab_f_u', u'illit_15ab_f_u',\n",
       "       u'pop_15ab_t_r', u'lit_15ab_t_r', u'lit_rate_15ab_t_r',\n",
       "       u'illit_15ab_t_r', u'pop_15ab_m_r', u'lit_15ab_m_r',\n",
       "       u'lit_rate_15ab_m_r', u'illit_15ab_m_r', u'pop_15ab_f_r',\n",
       "       u'lit_15ab_f_r', u'lit_rate_15ab_f_r', u'illit_15ab_f_r'],\n",
       "      dtype='object')"
      ]
     },
     "execution_count": 4,
     "metadata": {},
     "output_type": "execute_result"
    }
   ],
   "source": [
    "data.columns"
   ]
  },
  {
   "cell_type": "code",
   "execution_count": 3,
   "metadata": {
    "collapsed": false
   },
   "outputs": [
    {
     "data": {
      "image/png": "[encoded data removed]",
      "text/plain": [
       "<matplotlib.figure.Figure at 0x10915ced0>"
      ]
     },
     "metadata": {},
     "output_type": "display_data"
    }
   ],
   "source": [
    "plt.hist(data.lit_rate_15ab_t)\n",
    "plt.show()"
   ]
  },
  {
   "cell_type": "code",
   "execution_count": 7,
   "metadata": {
    "collapsed": false
   },
   "outputs": [
    {
     "data": {
      "text/plain": [
       "1.0"
      ]
     },
     "execution_count": 7,
     "metadata": {},
     "output_type": "execute_result"
    }
   ],
   "source": [
    "# Verify that population adds up\n",
    "np.mean(data.lit_15ab_f + data.illit_15ab_f == data.pop_15ab_f)"
   ]
  },
  {
   "cell_type": "code",
   "execution_count": 40,
   "metadata": {
    "collapsed": false
   },
   "outputs": [],
   "source": [
    "total_lit = data.lit_15ab_f + data.lit_15ab_m + data.lit_15ab_t\n",
    "total_illit = data.illit_15ab_f + data.illit_15ab_m + data.illit_15ab_t\n",
    "total = total_lit + total_illit"
   ]
  },
  {
   "cell_type": "code",
   "execution_count": 41,
   "metadata": {
    "collapsed": false
   },
   "outputs": [],
   "source": [
    "overall_lit_rate = total_lit/total"
   ]
  },
  {
   "cell_type": "code",
   "execution_count": 37,
   "metadata": {
    "collapsed": false
   },
   "outputs": [],
   "source": [
    "overall_lit_rate = overall_lit_rate.values.reshape((330, 1))\n",
    "data.n"
   ]
  },
  {
   "cell_type": "code",
   "execution_count": 47,
   "metadata": {
    "collapsed": true
   },
   "outputs": [],
   "source": [
    "# Create index-friendly JSON format\n",
    "data_dict = {}\n",
    "for index, township in enumerate(data.name_ts):\n",
    "    data_dict[township] = {\n",
    "        \"State\": data.name_st[index],\n",
    "        \"City\": data.name_dt[index],\n",
    "        \"Population\": total[index],\n",
    "        \"Literacy Rate\": overall_lit_rate[index]\n",
    "    }"
   ]
  },
  {
   "cell_type": "code",
   "execution_count": 49,
   "metadata": {
    "collapsed": false
   },
   "outputs": [],
   "source": [
    "# Export data\n",
    "import json\n",
    "with open('final_data.json', 'w') as fp:\n",
    "    json.dump(data_dict, fp)"
   ]
  },
  {
   "cell_type": "code",
   "execution_count": null,
   "metadata": {
    "collapsed": true
   },
   "outputs": [],
   "source": []
  }
 ],
 "metadata": {
  "kernelspec": {
   "display_name": "Python 2",
   "language": "python",
   "name": "python2"
  },
  "language_info": {
   "codemirror_mode": {
    "name": "ipython",
    "version": 2
   },
   "file_extension": ".py",
   "mimetype": "text/x-python",
   "name": "python",
   "nbconvert_exporter": "python",
   "pygments_lexer": "ipython2",
   "version": "2.7.12"
  }
 },
 "nbformat": 4,
 "nbformat_minor": 1
}
